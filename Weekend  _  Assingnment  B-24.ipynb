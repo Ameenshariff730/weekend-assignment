{
 "cells": [
  {
   "cell_type": "code",
   "execution_count": null,
   "metadata": {},
   "outputs": [],
   "source": [
    "#req:Make a dictionary containing three major rivers and the country each river runs through. One key-value pair might be 'nile': 'egypt'.\n",
    "\n",
    "      Use a loop to print a sentence about each river, such as The Nile runs through Egypt.\n",
    "\n",
    "      Use a loop to print the name of each river included in the dictionary.\n",
    "        \n",
    "      Use a loop to print the name of each country included in the dictionary.\n"
   ]
  },
  {
   "cell_type": "code",
   "execution_count": null,
   "metadata": {},
   "outputs": [],
   "source": [
    "#req:Make a dictionary containing three major rivers and the country each river runs through"
   ]
  },
  {
   "cell_type": "code",
   "execution_count": 3,
   "metadata": {},
   "outputs": [],
   "source": [
    "Major_Rivers = {'Nile':'Egypt','Amazon':'Brazil','Missouri':'USA','Yangtze':'china'}"
   ]
  },
  {
   "cell_type": "code",
   "execution_count": 4,
   "metadata": {},
   "outputs": [
    {
     "name": "stdout",
     "output_type": "stream",
     "text": [
      "{'Nile': 'Egypt', 'Amazon': 'Brazil', 'Missouri': 'USA', 'Yangtze': 'china'}\n"
     ]
    }
   ],
   "source": [
    "print(Major_Rivers)"
   ]
  },
  {
   "cell_type": "code",
   "execution_count": null,
   "metadata": {},
   "outputs": [],
   "source": [
    "#req: printing Major_Rivers by using for loop"
   ]
  },
  {
   "cell_type": "code",
   "execution_count": 8,
   "metadata": {},
   "outputs": [
    {
     "name": "stdout",
     "output_type": "stream",
     "text": [
      "The river Nile runs through Egypt\n",
      "\n",
      "The river Amazon runs through Brazil\n",
      "\n",
      "The river Missouri runs through USA\n",
      "\n",
      "The river Yangtze runs through china\n",
      "\n"
     ]
    }
   ],
   "source": [
    "for x,y in Major_Rivers.items():\n",
    "    print(f\"The river {x} runs through {y}\\n\")"
   ]
  },
  {
   "cell_type": "code",
   "execution_count": null,
   "metadata": {},
   "outputs": [],
   "source": [
    "#req:  Use a loop to print the name of each river included in the dictionary."
   ]
  },
  {
   "cell_type": "code",
   "execution_count": 11,
   "metadata": {},
   "outputs": [
    {
     "name": "stdout",
     "output_type": "stream",
     "text": [
      "River : Nile\n",
      "\n",
      "River : Amazon\n",
      "\n",
      "River : Missouri\n",
      "\n",
      "River : Yangtze\n",
      "\n"
     ]
    }
   ],
   "source": [
    "for x in Major_Rivers.keys():\n",
    "    print(f\"River : {x}\\n\")"
   ]
  },
  {
   "cell_type": "code",
   "execution_count": null,
   "metadata": {},
   "outputs": [],
   "source": [
    "#req: Use a loop to print the name of each country included in the dictionary."
   ]
  },
  {
   "cell_type": "code",
   "execution_count": 13,
   "metadata": {},
   "outputs": [
    {
     "name": "stdout",
     "output_type": "stream",
     "text": [
      "Country : Egypt\n",
      "\n",
      "Country : Brazil\n",
      "\n",
      "Country : USA\n",
      "\n",
      "Country : china\n",
      "\n"
     ]
    }
   ],
   "source": [
    "for y in Major_Rivers.values():\n",
    "    print(f\"Country : {y}\\n\")"
   ]
  },
  {
   "cell_type": "code",
   "execution_count": null,
   "metadata": {},
   "outputs": [],
   "source": [
    "Make a dictionary called favorite_places. Think of three names to use as keys in the dictionary, \n",
    "and store one to three favorite places for each person. To make this exercise a bit more interesting, \n",
    "ask some friends to name a few of their favorite places. \n",
    "Loop through the dictionary, and print each person’s name and their favorite places \n",
    "\n"
   ]
  },
  {
   "cell_type": "code",
   "execution_count": 14,
   "metadata": {},
   "outputs": [],
   "source": [
    "favorite_places = {'Ameen':'Raddison_Blu','Sara':'Planet_Earth','Saad':'Big_Chicken'}"
   ]
  },
  {
   "cell_type": "code",
   "execution_count": 15,
   "metadata": {},
   "outputs": [
    {
     "name": "stdout",
     "output_type": "stream",
     "text": [
      "{'Ameen': 'Raddison_Blu', 'Sara': 'Planet_Earth', 'Saad': 'Big_Chicken'}\n"
     ]
    }
   ],
   "source": [
    "print(favorite_places)"
   ]
  },
  {
   "cell_type": "code",
   "execution_count": null,
   "metadata": {},
   "outputs": [],
   "source": [
    "#using loop"
   ]
  },
  {
   "cell_type": "code",
   "execution_count": 17,
   "metadata": {},
   "outputs": [
    {
     "name": "stdout",
     "output_type": "stream",
     "text": [
      "The favourite place of Ameen is Raddison_Blu\n",
      " \n",
      "The favourite place of Sara is Planet_Earth\n",
      " \n",
      "The favourite place of Saad is Big_Chicken\n",
      " \n"
     ]
    }
   ],
   "source": [
    "for x,y in favorite_places.items():\n",
    "    print(f\"The favourite place of {x} is {y}\\n \")"
   ]
  },
  {
   "cell_type": "code",
   "execution_count": null,
   "metadata": {},
   "outputs": [],
   "source": []
  },
  {
   "cell_type": "code",
   "execution_count": null,
   "metadata": {},
   "outputs": [],
   "source": []
  },
  {
   "cell_type": "code",
   "execution_count": null,
   "metadata": {},
   "outputs": [],
   "source": []
  },
  {
   "cell_type": "code",
   "execution_count": null,
   "metadata": {},
   "outputs": [],
   "source": []
  },
  {
   "cell_type": "code",
   "execution_count": null,
   "metadata": {},
   "outputs": [],
   "source": []
  }
 ],
 "metadata": {
  "kernelspec": {
   "display_name": "Python 3",
   "language": "python",
   "name": "python3"
  },
  "language_info": {
   "codemirror_mode": {
    "name": "ipython",
    "version": 3
   },
   "file_extension": ".py",
   "mimetype": "text/x-python",
   "name": "python",
   "nbconvert_exporter": "python",
   "pygments_lexer": "ipython3",
   "version": "3.7.6"
  }
 },
 "nbformat": 4,
 "nbformat_minor": 4
}
